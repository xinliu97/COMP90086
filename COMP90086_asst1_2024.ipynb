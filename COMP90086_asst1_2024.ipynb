{
 "cells": [
  {
   "cell_type": "markdown",
   "metadata": {},
   "source": [
    "### The University of Melbourne, School of Computing and Information Systems\n",
    "# COMP90086 Computer Vision, 2024 Semester 2\n",
    "\n",
    "## Assignment 1"
   ]
  },
  {
   "cell_type": "markdown",
   "metadata": {},
   "source": [
    "**Student Name:**    `PLEASE ENTER YOUR NAME HERE`\n",
    "\n",
    "**Student ID:**     `PLEASE ENTER YOUR ID HERE`"
   ]
  },
  {
   "cell_type": "markdown",
   "metadata": {},
   "source": [
    "This iPython notebook is a template which you should use for your Assignment 1 submission. This file should be submitted at the **Assignment 1: Code** link on the LMS, along with any images needed to run your code.\n",
    "\n",
    "In addition to this file, you should submit a written report explaining your results at the **Assignment 1: Report** link on the LMS. Please see the assignment specification for details on what must be included in the report for each question.\n",
    "\n",
    "*Adding proper comments to your code is MANDATORY.*"
   ]
  },
  {
   "cell_type": "code",
   "execution_count": null,
   "metadata": {},
   "outputs": [],
   "source": [
    "# Additional code for Question 2\n",
    "\n",
    "import numpy as np\n",
    "import cv2\n",
    "\n",
    "# Real-world heights for sample objects, in meters (m)\n",
    "img_dog = 'dog.png'\n",
    "h_dog = 0.4\n",
    "img_statue = 'statue.png'\n",
    "h_statue = 1.8\n",
    "img_elephant = 'elephant.png'\n",
    "h_elephant = 3.5\n",
    "\n",
    "# Read a transparent PNG image\n",
    "transparent_obj = cv2.imread('dog.png', cv2.IMREAD_UNCHANGED)\n",
    "obj = transparent_obj[:,:,:3]\n",
    "alpha = transparent_obj[:,:,3]\n",
    "\n",
    "# Paste object onto background with transparency\n",
    "bg = np.ones_like(obj, dtype=np.uint8) * 255\n",
    "alpha = np.tile(alpha[:,:,np.newaxis], (1,1,3)).astype(np.float32) / 255.0\n",
    "pasted_object = (obj.astype(np.float32) * alpha) + (bg.astype(np.float32) * (1-alpha))\n",
    "pasted_object = pasted_object.astype(np.uint8)"
   ]
  },
  {
   "cell_type": "markdown",
   "metadata": {},
   "source": [
    "### 1. Image filtering"
   ]
  },
  {
   "cell_type": "code",
   "execution_count": null,
   "metadata": {},
   "outputs": [],
   "source": []
  },
  {
   "cell_type": "markdown",
   "metadata": {},
   "source": [
    "### 2. AR object rendering"
   ]
  },
  {
   "cell_type": "code",
   "execution_count": null,
   "metadata": {},
   "outputs": [],
   "source": []
  }
 ],
 "metadata": {
  "kernelspec": {
   "display_name": "Python 3",
   "language": "python",
   "name": "python3"
  },
  "language_info": {
   "codemirror_mode": {
    "name": "ipython",
    "version": 3
   },
   "file_extension": ".py",
   "mimetype": "text/x-python",
   "name": "python",
   "nbconvert_exporter": "python",
   "pygments_lexer": "ipython3",
   "version": "3.9.5"
  }
 },
 "nbformat": 4,
 "nbformat_minor": 4
}
